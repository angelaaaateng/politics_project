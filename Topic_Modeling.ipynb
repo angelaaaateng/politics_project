{
 "cells": [
  {
   "cell_type": "markdown",
   "id": "2454b70b-1787-4141-b532-15183a9cffeb",
   "metadata": {},
   "source": [
    "# Topic Modeling with BERT "
   ]
  },
  {
   "cell_type": "code",
   "execution_count": 2,
   "id": "8d2ee0ce-bb85-46a6-af36-170a23ff3c1d",
   "metadata": {},
   "outputs": [],
   "source": [
    "import pandas as pd \n",
    "import numpy as np\n",
    "\n",
    "from bertopic import BERTopic"
   ]
  },
  {
   "cell_type": "code",
   "execution_count": 3,
   "id": "4a695c26-998c-4c14-a150-c9d2aba20a98",
   "metadata": {},
   "outputs": [
    {
     "data": {
      "text/html": [
       "<div>\n",
       "<style scoped>\n",
       "    .dataframe tbody tr th:only-of-type {\n",
       "        vertical-align: middle;\n",
       "    }\n",
       "\n",
       "    .dataframe tbody tr th {\n",
       "        vertical-align: top;\n",
       "    }\n",
       "\n",
       "    .dataframe thead th {\n",
       "        text-align: right;\n",
       "    }\n",
       "</style>\n",
       "<table border=\"1\" class=\"dataframe\">\n",
       "  <thead>\n",
       "    <tr style=\"text-align: right;\">\n",
       "      <th></th>\n",
       "      <th>Unnamed: 0</th>\n",
       "      <th>username</th>\n",
       "      <th>date</th>\n",
       "      <th>tweet_id</th>\n",
       "      <th>tweet_content</th>\n",
       "      <th>tweet_url</th>\n",
       "    </tr>\n",
       "  </thead>\n",
       "  <tbody>\n",
       "    <tr>\n",
       "      <th>0</th>\n",
       "      <td>0</td>\n",
       "      <td>lisamurkowski</td>\n",
       "      <td>2020-12-31 18:06:21+00:00</td>\n",
       "      <td>1344706472052142083</td>\n",
       "      <td>Alaskans have proven their resilience time and...</td>\n",
       "      <td>https://twitter.com/lisamurkowski/status/13447...</td>\n",
       "    </tr>\n",
       "    <tr>\n",
       "      <th>1</th>\n",
       "      <td>1</td>\n",
       "      <td>lisamurkowski</td>\n",
       "      <td>2020-12-31 18:06:20+00:00</td>\n",
       "      <td>1344706470055714819</td>\n",
       "      <td>I’m proud that my Interior Appropriations bill...</td>\n",
       "      <td>https://twitter.com/lisamurkowski/status/13447...</td>\n",
       "    </tr>\n",
       "    <tr>\n",
       "      <th>2</th>\n",
       "      <td>2</td>\n",
       "      <td>lisamurkowski</td>\n",
       "      <td>2020-12-30 01:13:26+00:00</td>\n",
       "      <td>1344089179207118848</td>\n",
       "      <td>I’m proud that the nearly $900 billion #COVID1...</td>\n",
       "      <td>https://twitter.com/lisamurkowski/status/13440...</td>\n",
       "    </tr>\n",
       "    <tr>\n",
       "      <th>3</th>\n",
       "      <td>3</td>\n",
       "      <td>lisamurkowski</td>\n",
       "      <td>2020-12-30 01:13:26+00:00</td>\n",
       "      <td>1344089177663688704</td>\n",
       "      <td>The Paycheck Protection Program has been criti...</td>\n",
       "      <td>https://twitter.com/lisamurkowski/status/13440...</td>\n",
       "    </tr>\n",
       "    <tr>\n",
       "      <th>4</th>\n",
       "      <td>4</td>\n",
       "      <td>lisamurkowski</td>\n",
       "      <td>2020-12-29 00:59:39+00:00</td>\n",
       "      <td>1343723320030744578</td>\n",
       "      <td>Reaching this agreement took significant bipar...</td>\n",
       "      <td>https://twitter.com/lisamurkowski/status/13437...</td>\n",
       "    </tr>\n",
       "    <tr>\n",
       "      <th>...</th>\n",
       "      <td>...</td>\n",
       "      <td>...</td>\n",
       "      <td>...</td>\n",
       "      <td>...</td>\n",
       "      <td>...</td>\n",
       "      <td>...</td>\n",
       "    </tr>\n",
       "    <tr>\n",
       "      <th>73106</th>\n",
       "      <td>73106</td>\n",
       "      <td>SenJohnBarrasso</td>\n",
       "      <td>2020-01-04 00:16:38+00:00</td>\n",
       "      <td>1213252865659199489</td>\n",
       "      <td>Former Gov. Dave Freudenthal joined his family...</td>\n",
       "      <td>https://twitter.com/SenJohnBarrasso/status/121...</td>\n",
       "    </tr>\n",
       "    <tr>\n",
       "      <th>73107</th>\n",
       "      <td>73107</td>\n",
       "      <td>SenJohnBarrasso</td>\n",
       "      <td>2020-01-03 23:04:55+00:00</td>\n",
       "      <td>1213234814339432450</td>\n",
       "      <td>After 22 years in the Wyoming Legislature, Ton...</td>\n",
       "      <td>https://twitter.com/SenJohnBarrasso/status/121...</td>\n",
       "    </tr>\n",
       "    <tr>\n",
       "      <th>73108</th>\n",
       "      <td>73108</td>\n",
       "      <td>SenJohnBarrasso</td>\n",
       "      <td>2020-01-03 19:44:41+00:00</td>\n",
       "      <td>1213184425078509568</td>\n",
       "      <td>Soleimani was responsible for hundreds of Amer...</td>\n",
       "      <td>https://twitter.com/SenJohnBarrasso/status/121...</td>\n",
       "    </tr>\n",
       "    <tr>\n",
       "      <th>73109</th>\n",
       "      <td>73109</td>\n",
       "      <td>SenJohnBarrasso</td>\n",
       "      <td>2020-01-03 19:42:45+00:00</td>\n",
       "      <td>1213183939206094848</td>\n",
       "      <td>Our military and intelligence community stand ...</td>\n",
       "      <td>https://twitter.com/SenJohnBarrasso/status/121...</td>\n",
       "    </tr>\n",
       "    <tr>\n",
       "      <th>73110</th>\n",
       "      <td>73110</td>\n",
       "      <td>SenJohnBarrasso</td>\n",
       "      <td>2020-01-01 14:47:01+00:00</td>\n",
       "      <td>1212384739266568194</td>\n",
       "      <td>Bobbi and I wish you all a Happy New Year! htt...</td>\n",
       "      <td>https://twitter.com/SenJohnBarrasso/status/121...</td>\n",
       "    </tr>\n",
       "  </tbody>\n",
       "</table>\n",
       "<p>73111 rows × 6 columns</p>\n",
       "</div>"
      ],
      "text/plain": [
       "       Unnamed: 0         username                       date  \\\n",
       "0               0    lisamurkowski  2020-12-31 18:06:21+00:00   \n",
       "1               1    lisamurkowski  2020-12-31 18:06:20+00:00   \n",
       "2               2    lisamurkowski  2020-12-30 01:13:26+00:00   \n",
       "3               3    lisamurkowski  2020-12-30 01:13:26+00:00   \n",
       "4               4    lisamurkowski  2020-12-29 00:59:39+00:00   \n",
       "...           ...              ...                        ...   \n",
       "73106       73106  SenJohnBarrasso  2020-01-04 00:16:38+00:00   \n",
       "73107       73107  SenJohnBarrasso  2020-01-03 23:04:55+00:00   \n",
       "73108       73108  SenJohnBarrasso  2020-01-03 19:44:41+00:00   \n",
       "73109       73109  SenJohnBarrasso  2020-01-03 19:42:45+00:00   \n",
       "73110       73110  SenJohnBarrasso  2020-01-01 14:47:01+00:00   \n",
       "\n",
       "                  tweet_id                                      tweet_content  \\\n",
       "0      1344706472052142083  Alaskans have proven their resilience time and...   \n",
       "1      1344706470055714819  I’m proud that my Interior Appropriations bill...   \n",
       "2      1344089179207118848  I’m proud that the nearly $900 billion #COVID1...   \n",
       "3      1344089177663688704  The Paycheck Protection Program has been criti...   \n",
       "4      1343723320030744578  Reaching this agreement took significant bipar...   \n",
       "...                    ...                                                ...   \n",
       "73106  1213252865659199489  Former Gov. Dave Freudenthal joined his family...   \n",
       "73107  1213234814339432450  After 22 years in the Wyoming Legislature, Ton...   \n",
       "73108  1213184425078509568  Soleimani was responsible for hundreds of Amer...   \n",
       "73109  1213183939206094848  Our military and intelligence community stand ...   \n",
       "73110  1212384739266568194  Bobbi and I wish you all a Happy New Year! htt...   \n",
       "\n",
       "                                               tweet_url  \n",
       "0      https://twitter.com/lisamurkowski/status/13447...  \n",
       "1      https://twitter.com/lisamurkowski/status/13447...  \n",
       "2      https://twitter.com/lisamurkowski/status/13440...  \n",
       "3      https://twitter.com/lisamurkowski/status/13440...  \n",
       "4      https://twitter.com/lisamurkowski/status/13437...  \n",
       "...                                                  ...  \n",
       "73106  https://twitter.com/SenJohnBarrasso/status/121...  \n",
       "73107  https://twitter.com/SenJohnBarrasso/status/121...  \n",
       "73108  https://twitter.com/SenJohnBarrasso/status/121...  \n",
       "73109  https://twitter.com/SenJohnBarrasso/status/121...  \n",
       "73110  https://twitter.com/SenJohnBarrasso/status/121...  \n",
       "\n",
       "[73111 rows x 6 columns]"
      ]
     },
     "execution_count": 3,
     "metadata": {},
     "output_type": "execute_result"
    }
   ],
   "source": [
    "tweets_df = pd.read_csv('senator_tweets_df.csv')\n",
    "tweets_df "
   ]
  },
  {
   "cell_type": "code",
   "execution_count": 4,
   "id": "e9f22f05-31b5-497c-bdb6-fef5dfdb82ce",
   "metadata": {},
   "outputs": [],
   "source": [
    "content = tweets_df['tweet_content'].to_list()\n",
    "# content"
   ]
  },
  {
   "cell_type": "code",
   "execution_count": 5,
   "id": "1ac2275e-2967-47ed-bb1f-02bd301b3cfe",
   "metadata": {},
   "outputs": [],
   "source": [
    "topic_model = BERTopic()"
   ]
  },
  {
   "cell_type": "code",
   "execution_count": 6,
   "id": "d18691d2-629a-4abd-8640-3bfe992d2004",
   "metadata": {},
   "outputs": [
    {
     "data": {
      "text/plain": [
       "'Alaskans have proven their resilience time and time again in the face of disaster. I remain committed to helping equip them with the tools and resources they need to keep Alaskans across the state as safe as possible. https://t.co/T2M6Oh1SyA'"
      ]
     },
     "execution_count": 6,
     "metadata": {},
     "output_type": "execute_result"
    }
   ],
   "source": [
    "content[0]"
   ]
  },
  {
   "cell_type": "code",
   "execution_count": null,
   "id": "a1c02912-6f67-4e2e-854f-d55a5c6a0ab6",
   "metadata": {},
   "outputs": [],
   "source": [
    "topics, probs = topic_model.fit_transform(content[0:3])"
   ]
  },
  {
   "cell_type": "code",
   "execution_count": null,
   "id": "ac47cc78-043c-4826-bca0-09d6339cc9e6",
   "metadata": {},
   "outputs": [],
   "source": [
    "topic_model.get_topic_info()"
   ]
  },
  {
   "cell_type": "code",
   "execution_count": null,
   "id": "26fb8d43-14a9-4d75-ad0f-71504b783a9d",
   "metadata": {},
   "outputs": [],
   "source": [
    "topics"
   ]
  },
  {
   "cell_type": "code",
   "execution_count": null,
   "id": "f8e77191-73b8-4b04-8aed-a79014304c03",
   "metadata": {},
   "outputs": [],
   "source": [
    "probs"
   ]
  },
  {
   "cell_type": "code",
   "execution_count": null,
   "id": "ccbf09cf-b840-43b9-8103-7f87e7b51b87",
   "metadata": {},
   "outputs": [],
   "source": []
  }
 ],
 "metadata": {
  "kernelspec": {
   "display_name": "Python 3",
   "language": "python",
   "name": "python3"
  },
  "language_info": {
   "codemirror_mode": {
    "name": "ipython",
    "version": 3
   },
   "file_extension": ".py",
   "mimetype": "text/x-python",
   "name": "python",
   "nbconvert_exporter": "python",
   "pygments_lexer": "ipython3",
   "version": "3.9.12"
  }
 },
 "nbformat": 4,
 "nbformat_minor": 5
}
